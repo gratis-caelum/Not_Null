{
 "cells": [
  {
   "cell_type": "markdown",
   "metadata": {},
   "source": [
    "# Basic library & settings"
   ]
  },
  {
   "cell_type": "code",
   "execution_count": 3,
   "metadata": {},
   "outputs": [],
   "source": [
    "# Primary library import\n",
    "import pandas as pd\n",
    "import numpy as np\n",
    "import matplotlib.pyplot as plt\n",
    "import seaborn as sns\n",
    "from datetime import datetime\n",
    "import matplotlib.dates as mdates\n",
    "from statsmodels.tsa.seasonal import seasonal_decompose\n",
    "import warnings\n",
    "warnings.filterwarnings('ignore')\n",
    "\n",
    "# visualization setting\n",
    "plt.style.use(\"seaborn-v0_8-whitegrid\")\n",
    "plt.rcParams[\"figure.figsize\"] = (15, 8)\n",
    "sns.set(font_scale=1.2)\n"
   ]
  },
  {
   "cell_type": "markdown",
   "metadata": {},
   "source": [
    "# Data Load & Basic information search"
   ]
  },
  {
   "cell_type": "code",
   "execution_count": 4,
   "metadata": {},
   "outputs": [
    {
     "name": "stdout",
     "output_type": "stream",
     "text": [
      "Data size : (23587209, 19)\n",
      "\n",
      " first 5 rows of data : \n",
      "  module(equipment)      timestamp       localtime  operation  voltageR  \\\n",
      "0           14(2호기)  1739918155000  20250218143555          1    216.65   \n",
      "1          16(호이스트)  1742552385000  20250321031945          1    212.13   \n",
      "2        11(우측분전반1)  1738245780000  20250130060300          1    219.30   \n",
      "3          5(좌측분전반)  1740645790000  20250227004310          1    214.15   \n",
      "4        18(우측분전반2)  1737829500000  20250125102500          1    212.07   \n",
      "\n",
      "   voltageS  voltageT  voltageRS  voltageST  voltageTR  currentR  currentS  \\\n",
      "0    215.21    216.89     373.99     374.20     375.45     17.76      6.59   \n",
      "1    216.51    218.88     371.20     377.04     373.26     17.75     12.07   \n",
      "2    211.36    212.71     372.96     367.24     374.12     27.54     12.88   \n",
      "3    213.73    210.73     370.54     367.58     367.95     26.78      7.03   \n",
      "4    215.52    215.66     370.29     373.40     370.41     29.51      8.88   \n",
      "\n",
      "   currentT  activePower  powerFactorR  powerFactorS  powerFactorT  \\\n",
      "0     10.99      2039.66         91.24         93.67         88.05   \n",
      "1     10.94      2339.27         94.75         88.46         93.38   \n",
      "2     24.68      3736.34         98.70         87.36         88.44   \n",
      "3     22.33      3185.26         98.62         90.41         92.84   \n",
      "4      6.82      2571.53         85.52         90.74         97.44   \n",
      "\n",
      "   reactivePowerLagging  accumActiveEnergy  \n",
      "0                369.96            8789565  \n",
      "1                423.29            9147762  \n",
      "2                490.54            5480746  \n",
      "3                466.56            9190918  \n",
      "4                392.70            8606780  \n"
     ]
    }
   ],
   "source": [
    "df = pd.read_csv(\"/Users/b._.chan/Documents/DKU_DataScience/Not_Null/data/raw/train.csv\")\n",
    "\n",
    "# Data basic information\n",
    "print(f\"Data size : {df.shape}\")\n",
    "print(\"\\n first 5 rows of data : \")\n",
    "print(df.head())\n"
   ]
  },
  {
   "cell_type": "code",
   "execution_count": 5,
   "metadata": {},
   "outputs": [
    {
     "name": "stdout",
     "output_type": "stream",
     "text": [
      "<class 'pandas.core.frame.DataFrame'>\n",
      "RangeIndex: 23587209 entries, 0 to 23587208\n",
      "Data columns (total 19 columns):\n",
      " #   Column                Dtype  \n",
      "---  ------                -----  \n",
      " 0   module(equipment)     object \n",
      " 1   timestamp             int64  \n",
      " 2   localtime             int64  \n",
      " 3   operation             int64  \n",
      " 4   voltageR              float64\n",
      " 5   voltageS              float64\n",
      " 6   voltageT              float64\n",
      " 7   voltageRS             float64\n",
      " 8   voltageST             float64\n",
      " 9   voltageTR             float64\n",
      " 10  currentR              float64\n",
      " 11  currentS              float64\n",
      " 12  currentT              float64\n",
      " 13  activePower           float64\n",
      " 14  powerFactorR          float64\n",
      " 15  powerFactorS          float64\n",
      " 16  powerFactorT          float64\n",
      " 17  reactivePowerLagging  float64\n",
      " 18  accumActiveEnergy     int64  \n",
      "dtypes: float64(14), int64(4), object(1)\n",
      "memory usage: 3.3+ GB\n",
      "None\n"
     ]
    }
   ],
   "source": [
    "# Data type & memory usage check\n",
    "print(df.info())"
   ]
  },
  {
   "cell_type": "code",
   "execution_count": 6,
   "metadata": {},
   "outputs": [
    {
     "name": "stdout",
     "output_type": "stream",
     "text": [
      "\n",
      " Data description : \n",
      "          timestamp     localtime   operation      voltageR      voltageS  \\\n",
      "count  2.358721e+07  2.358721e+07  23587209.0  2.358721e+07  2.358721e+07   \n",
      "mean   1.739519e+12  2.024839e+13         1.0  2.149942e+02  2.149946e+02   \n",
      "std    3.739740e+09  3.664714e+09         0.0  2.901942e+00  2.902580e+00   \n",
      "min    1.733040e+12  2.024120e+13         1.0  1.901000e+02  1.901400e+02   \n",
      "25%    1.736280e+12  2.025011e+13         1.0  2.125000e+02  2.125000e+02   \n",
      "50%    1.739521e+12  2.025021e+13         1.0  2.150000e+02  2.150000e+02   \n",
      "75%    1.742757e+12  2.025032e+13         1.0  2.175000e+02  2.175000e+02   \n",
      "max    1.745996e+12  2.025043e+13         1.0  2.200000e+02  2.200000e+02   \n",
      "\n",
      "           voltageT     voltageRS     voltageST     voltageTR      currentR  \\\n",
      "count  2.358721e+07  2.358721e+07  2.358721e+07  2.358721e+07  2.358721e+07   \n",
      "mean   2.149940e+02  3.723703e+02  3.723701e+02  3.723697e+02  1.750025e+01   \n",
      "std    2.902125e+00  3.572992e+00  3.572323e+00  3.572550e+00  7.217243e+00   \n",
      "min    1.901900e+02  3.308300e+02  3.312700e+02  3.305600e+02  5.000000e+00   \n",
      "25%    2.125000e+02  3.698400e+02  3.698400e+02  3.698400e+02  1.125000e+01   \n",
      "50%    2.150000e+02  3.723800e+02  3.723800e+02  3.723800e+02  1.750000e+01   \n",
      "75%    2.175000e+02  3.749200e+02  3.749100e+02  3.749200e+02  2.375000e+01   \n",
      "max    2.200000e+02  3.810400e+02  3.810400e+02  3.810400e+02  3.000000e+01   \n",
      "\n",
      "           currentS      currentT   activePower  powerFactorR  powerFactorS  \\\n",
      "count  2.358721e+07  2.358721e+07  2.358721e+07  2.358721e+07  2.358721e+07   \n",
      "mean   1.749881e+01  1.750207e+01  3.009983e+03  9.246880e+01  9.247010e+01   \n",
      "std    7.217451e+00  7.217173e+00  7.172040e+02  4.405030e+00  4.405401e+00   \n",
      "min    5.000000e+00  5.000000e+00  8.644400e+02  6.000000e+01  6.000000e+01   \n",
      "25%    1.125000e+01  1.125000e+01  2.503740e+03  8.873000e+01  8.873000e+01   \n",
      "50%    1.750000e+01  1.750000e+01  3.009880e+03  9.249000e+01  9.249000e+01   \n",
      "75%    2.375000e+01  2.375000e+01  3.515950e+03  9.624000e+01  9.625000e+01   \n",
      "max    3.000000e+01  3.000000e+01  5.219730e+03  1.000000e+02  1.000000e+02   \n",
      "\n",
      "       powerFactorT  reactivePowerLagging  accumActiveEnergy  \n",
      "count  2.358721e+07          2.358721e+07       2.358721e+07  \n",
      "mean   9.246983e+01          6.019165e+02       8.104020e+06  \n",
      "std    4.405663e+00          2.290891e+02       3.344687e+06  \n",
      "min    6.000000e+01          8.944000e+01       1.129013e+06  \n",
      "25%    8.873000e+01          4.231400e+02       5.394751e+06  \n",
      "50%    9.249000e+01          5.739000e+02       8.104245e+06  \n",
      "75%    9.624000e+01          7.553800e+02       1.081312e+07  \n",
      "max    1.000000e+02          1.550630e+03       1.543817e+07  \n"
     ]
    }
   ],
   "source": [
    "# describe data check\n",
    "print(\"\\n Data description : \")\n",
    "print(df.describe())"
   ]
  },
  {
   "cell_type": "code",
   "execution_count": 7,
   "metadata": {},
   "outputs": [
    {
     "name": "stdout",
     "output_type": "stream",
     "text": [
      "\n",
      " Missing value check : \n",
      "module(equipment)       0\n",
      "timestamp               0\n",
      "localtime               0\n",
      "operation               0\n",
      "voltageR                0\n",
      "voltageS                0\n",
      "voltageT                0\n",
      "voltageRS               0\n",
      "voltageST               0\n",
      "voltageTR               0\n",
      "currentR                0\n",
      "currentS                0\n",
      "currentT                0\n",
      "activePower             0\n",
      "powerFactorR            0\n",
      "powerFactorS            0\n",
      "powerFactorT            0\n",
      "reactivePowerLagging    0\n",
      "accumActiveEnergy       0\n",
      "dtype: int64\n"
     ]
    }
   ],
   "source": [
    "# missing value check\n",
    "print(\"\\n Missing value check : \")\n",
    "print(df.isnull().sum())"
   ]
  },
  {
   "cell_type": "markdown",
   "metadata": {},
   "source": [
    "# Time data preprocessing"
   ]
  },
  {
   "cell_type": "code",
   "execution_count": 8,
   "metadata": {},
   "outputs": [
    {
     "name": "stdout",
     "output_type": "stream",
     "text": [
      "localtime data sample\n",
      "0    20250218143555\n",
      "1    20250321031945\n",
      "2    20250130060300\n",
      "3    20250227004310\n",
      "4    20250125102500\n",
      "Name: localtime, dtype: int64\n"
     ]
    }
   ],
   "source": [
    "# localtime data type check\n",
    "print(\"localtime data sample\")\n",
    "print(df['localtime'].head())\n"
   ]
  },
  {
   "cell_type": "code",
   "execution_count": 9,
   "metadata": {},
   "outputs": [],
   "source": [
    "# timestamp & localtime column type transform\n",
    "def convert_timestamp(x):\n",
    "    try:\n",
    "        # 1. timestamp column type transform\n",
    "        return pd.to_datetime(str(x), format=\"%Y%m%d%H%M%S\")\n",
    "    except:\n",
    "        return pd.NaT\n"
   ]
  },
  {
   "cell_type": "code",
   "execution_count": 10,
   "metadata": {},
   "outputs": [
    {
     "name": "stdout",
     "output_type": "stream",
     "text": [
      "\n",
      "converted datetime column\n",
      "0   2025-02-18 14:35:55\n",
      "1   2025-03-21 03:19:45\n",
      "2   2025-01-30 06:03:00\n",
      "3   2025-02-27 00:43:10\n",
      "4   2025-01-25 10:25:00\n",
      "Name: datetime, dtype: datetime64[ns]\n"
     ]
    }
   ],
   "source": [
    "# localtime transform\n",
    "df['datetime'] = df['localtime'].apply(convert_timestamp)\n",
    "\n",
    "# transform results check\n",
    "print(\"\\nconverted datetime column\")\n",
    "print(df['datetime'].head())"
   ]
  },
  {
   "cell_type": "code",
   "execution_count": 12,
   "metadata": {},
   "outputs": [
    {
     "name": "stdout",
     "output_type": "stream",
     "text": [
      "\n",
      "Time feature check\n",
      "             datetime  year  month  day  hour  weekday  week\n",
      "0 2025-02-18 14:35:55  2025      2   18    14        1     8\n",
      "1 2025-03-21 03:19:45  2025      3   21     3        4    12\n",
      "2 2025-01-30 06:03:00  2025      1   30     6        3     5\n",
      "3 2025-02-27 00:43:10  2025      2   27     0        3     9\n",
      "4 2025-01-25 10:25:00  2025      1   25    10        5     4\n"
     ]
    }
   ],
   "source": [
    "# Time feature extraction\n",
    "df['year'] = df['datetime'].dt.year\n",
    "df['month'] = df['datetime'].dt.month\n",
    "df['day'] = df['datetime'].dt.day\n",
    "df['hour'] = df['datetime'].dt.hour\n",
    "df['weekday'] = df['datetime'].dt.weekday\n",
    "df['week'] = df['datetime'].dt.isocalendar().week\n",
    "\n",
    "# Time feature check\n",
    "print(\"\\nTime feature check\")\n",
    "print(df[['datetime', 'year', 'month', 'day', 'hour', 'weekday', 'week']].head())\n"
   ]
  },
  {
   "cell_type": "code",
   "execution_count": null,
   "metadata": {},
   "outputs": [],
   "source": []
  }
 ],
 "metadata": {
  "kernelspec": {
   "display_name": "Django_study",
   "language": "python",
   "name": "python3"
  },
  "language_info": {
   "codemirror_mode": {
    "name": "ipython",
    "version": 3
   },
   "file_extension": ".py",
   "mimetype": "text/x-python",
   "name": "python",
   "nbconvert_exporter": "python",
   "pygments_lexer": "ipython3",
   "version": "3.10.16"
  }
 },
 "nbformat": 4,
 "nbformat_minor": 2
}
